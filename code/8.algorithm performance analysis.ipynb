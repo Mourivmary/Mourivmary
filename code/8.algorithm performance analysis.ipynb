{
 "cells": [
  {
   "cell_type": "code",
   "execution_count": null,
   "id": "7fff75ed",
   "metadata": {},
   "outputs": [],
   "source": [
    "import pandas as pd\n",
    "import numpy as np\n",
    "df=pd.read_csv(r\"D:\\看论文\\6.数据\\13.download.tsv.wiki_talk_ht\\wiki_talk_ht\\wiki_talk.txt\",sep='\\t| ',header=None)\n",
    "#df=pd.read_csv(r\"D:\\看论文\\6.数据\\12.foodweb\\maayan-foodweb\\out.maayan-foodweb.txt\",sep=' ',header=None)\n",
    "#df=pd.read_csv(r\"D:\\看论文\\6.数据\\7.download.tsv.moreno_innovation\\moreno_innovation\\out.moreno_innovation_innovation.txt\",sep=' ',header=None)\n",
    "#df=pd.read_csv(r\"D:\\看论文\\6.数据\\6.download.tsv.convote\\convote\\out.convote.txt\",sep=' ',header=None)\n",
    "#df=pd.read_csv(r\"D:\\看论文\\14.小型LFR\\LFR-1\\l_data500边排序.csv\",header=None)\n",
    "#df=pd.read_csv(r\"D:\\看论文\\6.数据\\6.download.tsv.convote\\convote\\out.convote.txt\",sep=' ',header=None)\n",
    "#df=pd.read_csv(r\"D:\\看论文\\6.数据\\4.Friendship-network_data_2013.csv\\Friendship-network_data_2013.csv\",header=None)\n",
    "aa=[]\n",
    "for i in df[0]:\n",
    "    if i not in aa:\n",
    "        aa.append(i)\n",
    "for i in df[1]:\n",
    "    if i not in aa:\n",
    "        aa.append(i)\n",
    "aa=sorted(aa)\n",
    "num_nodes = len(aa) # 该数据集的顶点数目\n",
    "# 根据节点个数定义矩阵维度\n",
    "#可以创建指定长度或形状的全0的ndarray数组。在默认的情况下，zeros创建的数组元素类型是浮点型的\n",
    "matrix_per = np.zeros((num_nodes,num_nodes),dtype=int)  #zeros(shape, dtype=float, order='C')\n",
    "\n",
    "#根据边构建矩阵，机场i的飞机飞向机场j，那么i→j\n",
    "#第一列向第二列发送邮件\n",
    "for i ,j in zip(df[0],df[1]):\n",
    "    i=aa.index(i)\n",
    "    j=aa.index(j)\n",
    "    matrix_per[i][j] = 1   # 有向图：有交通往来的样本点之间取1，第一列→第二列\n",
    "# 查看邻接矩阵的元素\n",
    "print(matrix_per)\n",
    "l=[]\n",
    "for i in range(num_nodes):\n",
    "    for j in range(num_nodes):\n",
    "        if matrix_per[i][j]!=0:\n",
    "            l.append((i,j))\n",
    "bb=[]\n",
    "for i in l:\n",
    "    for j in i:\n",
    "        if j not in bb:\n",
    "            bb.append(j)\n",
    "bb=sorted(bb)\n",
    "import random\n",
    "cc=random.sample(bb,53)\n",
    "dd=matrix_per[cc][:,cc]"
   ]
  },
  {
   "cell_type": "code",
   "execution_count": null,
   "id": "6e774edb",
   "metadata": {},
   "outputs": [],
   "source": [
    "sum(sum(dd))"
   ]
  },
  {
   "cell_type": "code",
   "execution_count": null,
   "id": "3cd8ef7c",
   "metadata": {},
   "outputs": [],
   "source": [
    "matrix_per.shape"
   ]
  },
  {
   "cell_type": "code",
   "execution_count": null,
   "id": "697a2bbb",
   "metadata": {},
   "outputs": [],
   "source": [
    "for i in cc:\n",
    "    bb.remove(i)"
   ]
  },
  {
   "cell_type": "code",
   "execution_count": null,
   "id": "7e82f471",
   "metadata": {},
   "outputs": [],
   "source": [
    "for i in cc1:\n",
    "    bb.remove(i)"
   ]
  },
  {
   "cell_type": "code",
   "execution_count": null,
   "id": "d27a3cb4",
   "metadata": {},
   "outputs": [],
   "source": [
    "#cc=cc+bb"
   ]
  },
  {
   "cell_type": "code",
   "execution_count": null,
   "id": "cc5938f2",
   "metadata": {},
   "outputs": [],
   "source": [
    "import random\n",
    "cc1=random.sample(bb,53)"
   ]
  },
  {
   "cell_type": "code",
   "execution_count": null,
   "id": "8fc4c221",
   "metadata": {},
   "outputs": [],
   "source": [
    "cc=cc+cc1"
   ]
  },
  {
   "cell_type": "code",
   "execution_count": null,
   "id": "ad8b5a8c",
   "metadata": {},
   "outputs": [],
   "source": [
    "#cc=list(set(cc))"
   ]
  },
  {
   "cell_type": "code",
   "execution_count": null,
   "id": "9f32d2a0",
   "metadata": {},
   "outputs": [],
   "source": [
    "len(cc)"
   ]
  },
  {
   "cell_type": "code",
   "execution_count": null,
   "id": "230c244d",
   "metadata": {},
   "outputs": [],
   "source": [
    "dd=matrix_per[cc][:,cc]"
   ]
  },
  {
   "cell_type": "code",
   "execution_count": null,
   "id": "5c3c9b30",
   "metadata": {},
   "outputs": [],
   "source": [
    "sum(sum(dd))"
   ]
  }
 ],
 "metadata": {
  "kernelspec": {
   "display_name": "Python 3 (ipykernel)",
   "language": "python",
   "name": "python3"
  },
  "language_info": {
   "codemirror_mode": {
    "name": "ipython",
    "version": 3
   },
   "file_extension": ".py",
   "mimetype": "text/x-python",
   "name": "python",
   "nbconvert_exporter": "python",
   "pygments_lexer": "ipython3",
   "version": "3.9.13"
  }
 },
 "nbformat": 4,
 "nbformat_minor": 5
}
