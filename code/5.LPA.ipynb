{
 "cells": [
  {
   "cell_type": "code",
   "execution_count": 2,
   "id": "06171fb3",
   "metadata": {},
   "outputs": [
    {
     "name": "stdout",
     "output_type": "stream",
     "text": [
      "模块度为： 0.56498\n",
      "0.03258848190307617\n"
     ]
    }
   ],
   "source": [
    "import networkx as nx\n",
    "from networkx.algorithms.community import asyn_lpa_communities as lpa\n",
    "import random\n",
    "import pandas as pd\n",
    "import numpy as np\n",
    "#data=pd.read_csv(r\"E:\\jupyter notebook program\\matrix_convote.csv\",header=None)\n",
    "#data=pd.read_csv(r\"E:\\jupyter notebook program\\matrix_emailEucore.csv\",header=None)\n",
    "#data=pd.read_csv(r\"E:\\jupyter notebook program\\matrix_moreno_innovation.csv\",header=None)\n",
    "#data=pd.read_csv(r\"E:\\jupyter notebook program\\matrix_celegans_n306.csv\",header=None)\n",
    "#data=pd.read_csv(r\"E:\\jupyter notebook program\\matrix_Friendship.csv\",header=None)\n",
    "#data=pd.read_csv(r\"E:\\jupyter notebook program\\matrix_wiki_talk.csv\",header=None)\n",
    "\n",
    "#data=pd.read_csv(r\"D:\\看论文\\14.小型LFR\\LFR-1\\matrix_data500边.csv\",header=None)\n",
    "#data=pd.read_csv(r\"D:\\看论文\\14.小型LFR\\LFR-2\\matrix_data500边.csv\",header=None)\n",
    "#data=pd.read_csv(r\"D:\\看论文\\14.小型LFR\\LFR-3\\matrix_data500边.csv\",header=None)\n",
    "#data=pd.read_csv(r\"D:\\看论文\\14.小型LFR\\LFR-4\\matrix_data500边.csv\",header=None)\n",
    "#data=pd.read_csv(r\"D:\\看论文\\14.小型LFR\\LFR-5\\matrix_data500边.csv\",header=None)\n",
    "#data=pd.read_csv(r\"D:\\看论文\\14.小型LFR\\LFR-6\\matrix_data500边.csv\",header=None)\n",
    "#data=pd.read_csv(r\"D:\\看论文\\14.小型LFR\\LFR-7\\matrix_data500边.csv\",header=None)\n",
    "data=pd.read_csv(r\"D:\\1.看论文0\\14.小型LFR\\LFR-8\\matrix_data500边.csv\",header=None)\n",
    "\n",
    "s=np.array(data)\n",
    "G=nx.DiGraph(s)  #原图\n",
    "import time\n",
    "start=time.time()\n",
    "data = lpa(G)\n",
    "pi=[]\n",
    "for i,v in enumerate(data):\n",
    "    #enumerate() 是 Python 内置函数之一\n",
    "    #用于将一个可迭代对象（如列表、元组、字符串等）组合成一个索引序列，同时列出数据和数据下标。\n",
    "    pi.append(v)\n",
    "    #print(i,v)\n",
    "def Modularity(array,cluster):  #有向网络的模块度\n",
    "    #总边数\n",
    "    m = np.sum(array) #对整个01矩阵求和，是有向网络中的总边数\n",
    "    k1 = np.sum(array,axis=1) #axis指第二个维度，对第二个维度进行求和   求行和，每个节点的出度，返回一维数组\n",
    "    k2 = np.sum(array,axis=0) #axis指第一个维度，对第一个维度进行求和   求列和，每个节点的入度，返回一维数组\n",
    "    k2 = k2.reshape(k2.shape[0],1)\n",
    "    #节点度数的乘积\n",
    "    k1k2 = (k1*k2).T\n",
    "    #任意两点连接边数的期望值\n",
    "    Eij = k1k2/m\n",
    "    #节点v和w的实际边数与随机网络下边数期望之差\n",
    "    B = array - Eij\n",
    "    #获取节点、社区矩阵\n",
    "    node_cluster = np.dot(cluster,np.transpose(cluster))  #将cluster矩阵转置\n",
    "    results = np.dot(B,node_cluster)\n",
    "    #求和\n",
    "    sum_results = np.trace(results) #这里求迹是因为上一步原矩阵与社区矩阵相乘之后，所求的即迹\n",
    "    #模块度计算\n",
    "    Q = sum_results / m\n",
    "    return Q\n",
    "def Get_cluster(G,pi):\n",
    "    cluster=np.zeros((len(G),len(pi)),dtype='int32') # 'int32'数组中的每个元素是32位的整数\n",
    "    #len(G)图中节点的数量，即图的大小\n",
    "    #cluster是节点数×社区数的全整数0矩阵*\n",
    "    s=0\n",
    "    for i in pi:           #每个社区                              \n",
    "        #j为点的标号\n",
    "        for j in list(i):                     \n",
    "            #将同一个社区的点对应位置赋值为1\n",
    "            cluster[j][s]=1\n",
    "        #一个社区赋值完成，进行下一个社区，直到全部赋值完成\n",
    "        s=s+1\n",
    "    return cluster\n",
    "cluster=Get_cluster(G,pi)\n",
    "Q=Modularity(s,cluster)\n",
    "print('模块度为：',Q)\n",
    "end=time.time()\n",
    "t=end-start\n",
    "print(t)\n",
    "#print(pi)"
   ]
  },
  {
   "cell_type": "code",
   "execution_count": null,
   "id": "3c626314",
   "metadata": {},
   "outputs": [],
   "source": []
  }
 ],
 "metadata": {
  "kernelspec": {
   "display_name": "Python 3 (ipykernel)",
   "language": "python",
   "name": "python3"
  },
  "language_info": {
   "codemirror_mode": {
    "name": "ipython",
    "version": 3
   },
   "file_extension": ".py",
   "mimetype": "text/x-python",
   "name": "python",
   "nbconvert_exporter": "python",
   "pygments_lexer": "ipython3",
   "version": "3.9.13"
  }
 },
 "nbformat": 4,
 "nbformat_minor": 5
}
