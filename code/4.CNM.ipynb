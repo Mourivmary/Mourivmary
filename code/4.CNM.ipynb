{
 "cells": [
  {
   "cell_type": "code",
   "execution_count": 2,
   "id": "5a432b6c",
   "metadata": {},
   "outputs": [
    {
     "name": "stdout",
     "output_type": "stream",
     "text": [
      "用时： 0.0622098445892334\n"
     ]
    },
    {
     "data": {
      "text/plain": [
       "0.689128"
      ]
     },
     "execution_count": 2,
     "metadata": {},
     "output_type": "execute_result"
    }
   ],
   "source": [
    "def Modularity(array,cluster):  #有向网络的模块度\n",
    "    #总边数\n",
    "    m = np.sum(array) #对整个01矩阵求和，是有向网络中的总边数\n",
    "    k1 = np.sum(array,axis=1) #axis指第二个维度，对第二个维度进行求和   求行和，每个节点的出度，返回一维数组\n",
    "    k2 = np.sum(array,axis=0) #axis指第一个维度，对第一个维度进行求和   求列和，每个节点的入度，返回一维数组\n",
    "    k2 = k2.reshape(k2.shape[0],1)\n",
    "    #节点度数的乘积\n",
    "    k1k2 = (k1*k2).T\n",
    "    #任意两点连接边数的期望值\n",
    "    Eij = k1k2/m\n",
    "    #节点v和w的实际边数与随机网络下边数期望之差\n",
    "    B = array - Eij\n",
    "    #获取节点、社区矩阵\n",
    "    node_cluster = np.dot(cluster,np.transpose(cluster))  #将cluster矩阵转置\n",
    "    results = np.dot(B,node_cluster)\n",
    "    #求和\n",
    "    sum_results = np.trace(results) #这里求迹是因为上一步原矩阵与社区矩阵相乘之后，所求的即迹\n",
    "    #模块度计算\n",
    "    Q = sum_results / m\n",
    "    return Q\n",
    "\n",
    "#获得社区矩阵的函数，就是将pi中的社区划分改为矩阵形式，矩阵的行为点的数量，列为社区的数量      点的数量×社区的数量\n",
    "def Get_cluster(G,pi):\n",
    "    cluster=np.zeros((len(G),len(pi)),dtype='int32') # 'int32'数组中的每个元素是32位的整数\n",
    "    #len(G)图中节点的数量，即图的大小\n",
    "    #cluster是节点数×社区数的全整数0矩阵*\n",
    "    s=0\n",
    "    for i in pi:           #每个社区                              \n",
    "        #j为点的标号\n",
    "        for j in list(i):                     \n",
    "            #将同一个社区的点对应位置赋值为1\n",
    "            cluster[j][s]=1\n",
    "        #一个社区赋值完成，进行下一个社区，直到全部赋值完成\n",
    "        s=s+1\n",
    "    return cluster\n",
    "\n",
    "import pandas as pd\n",
    "import numpy as np\n",
    "import networkx as nx\n",
    "import math\n",
    "from sklearn import metrics\n",
    "\n",
    "#data=pd.read_csv(r\"E:\\jupyter notebook program\\matrix_Friendship.csv\",header=None)\n",
    "#data=pd.read_csv(r\"E:\\jupyter notebook program\\matrix_celegans_n306.csv\",header=None)\n",
    "#data=pd.read_csv(r\"E:\\jupyter notebook program\\matrix_convote.csv\",header=None)\n",
    "#data=pd.read_csv(r\"E:\\jupyter notebook program\\matrix_moreno_innovation.csv\",header=None)\n",
    "#data=pd.read_csv(r\"E:\\jupyter notebook program\\matrix_foodweb.csv\",header=None)\n",
    "#data=pd.read_csv(r\"E:\\jupyter notebook program\\matrix_wiki_talk.csv\",header=None)\n",
    "\n",
    "\n",
    "#data=pd.read_csv(r\"E:\\LFR\\benchmark\\benchmark\\benchmark\\Debug\\LFR-1\\matrix_data500边.csv\",header=None)\n",
    "\n",
    "#data=pd.read_csv(r\"D:\\看论文\\14.小型LFR\\LFR-1\\matrix_data500边.csv\",header=None)\n",
    "#data=pd.read_csv(r\"D:\\看论文\\14.小型LFR\\LFR-2\\matrix_data500边.csv\",header=None)\n",
    "#data=pd.read_csv(r\"D:\\看论文\\14.小型LFR\\LFR-3\\matrix_data500边.csv\",header=None)\n",
    "#data=pd.read_csv(r\"D:\\看论文\\14.小型LFR\\LFR-4\\matrix_data500边.csv\",header=None)\n",
    "#data=pd.read_csv(r\"D:\\看论文\\14.小型LFR\\LFR-5\\matrix_data500边.csv\",header=None)\n",
    "#data=pd.read_csv(r\"D:\\看论文\\14.小型LFR\\LFR-6\\matrix_data500边.csv\",header=None)\n",
    "#data=pd.read_csv(r\"D:\\看论文\\14.小型LFR\\LFR-7\\matrix_data500边.csv\",header=None)\n",
    "data=pd.read_csv(r\"D:\\1.看论文0\\14.小型LFR\\LFR-8\\matrix_data500边.csv\",header=None)\n",
    "\n",
    "data=np.array(data)\n",
    "G=nx.DiGraph(data)\n",
    "\n",
    "import time\n",
    "start=time.time()\n",
    "\n",
    "from networkx.algorithms.community import greedy_modularity_communities\n",
    "c = greedy_modularity_communities(G)\n",
    "\n",
    "end=time.time()\n",
    "t=end-start\n",
    "print(\"用时：\",t)\n",
    "\n",
    "Q=Modularity(data,Get_cluster(G,c))\n",
    "Q"
   ]
  },
  {
   "cell_type": "code",
   "execution_count": null,
   "id": "a790f80e",
   "metadata": {},
   "outputs": [],
   "source": []
  }
 ],
 "metadata": {
  "kernelspec": {
   "display_name": "Python 3 (ipykernel)",
   "language": "python",
   "name": "python3"
  },
  "language_info": {
   "codemirror_mode": {
    "name": "ipython",
    "version": 3
   },
   "file_extension": ".py",
   "mimetype": "text/x-python",
   "name": "python",
   "nbconvert_exporter": "python",
   "pygments_lexer": "ipython3",
   "version": "3.9.13"
  }
 },
 "nbformat": 4,
 "nbformat_minor": 5
}
