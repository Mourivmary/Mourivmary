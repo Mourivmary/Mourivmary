{
 "cells": [
  {
   "cell_type": "code",
   "execution_count": 1,
   "id": "3815f2be",
   "metadata": {},
   "outputs": [
    {
     "name": "stdout",
     "output_type": "stream",
     "text": [
      "1.7730496453900708\n"
     ]
    }
   ],
   "source": [
    "import pandas as pd\n",
    "import numpy as np\n",
    "import networkx as nx\n",
    "#data=pd.read_csv(r\"E:\\jupyter notebook program\\matrix_Friendship.csv\",header=None)\n",
    "#data=pd.read_csv(r\"E:\\jupyter notebook program\\matrix_celegans_n306.csv\",header=None)\n",
    "#data=pd.read_csv(r\"E:\\jupyter notebook program\\matrix_convote.csv\",header=None)\n",
    "#data=pd.read_csv(r\"E:\\jupyter notebook program\\matrix_moreno_innovation.csv\",header=None)\n",
    "#data=pd.read_csv(r\"E:\\jupyter notebook program\\matrix_foodweb.csv\",header=None)\n",
    "#data=pd.read_csv(r\"E:\\jupyter notebook program\\matrix_wiki_talk.csv\",header=None)\n",
    "\n",
    "\n",
    "#data=pd.read_csv(r\"D:\\看论文\\14.小型LFR\\LFR-1\\matrix_data500边.csv\",header=None)\n",
    "#data=pd.read_csv(r\"D:\\看论文\\14.小型LFR\\LFR-2\\matrix_data500边.csv\",header=None)\n",
    "#data=pd.read_csv(r\"D:\\看论文\\14.小型LFR\\LFR-3\\matrix_data500边.csv\",header=None)\n",
    "#data=pd.read_csv(r\"D:\\看论文\\14.小型LFR\\LFR-4\\matrix_data500边.csv\",header=None)\n",
    "#data=pd.read_csv(r\"D:\\看论文\\14.小型LFR\\LFR-5\\matrix_data500边.csv\",header=None)\n",
    "#data=pd.read_csv(r\"D:\\看论文\\14.小型LFR\\LFR-6\\matrix_data500边.csv\",header=None)\n",
    "#data=pd.read_csv(r\"D:\\看论文\\14.小型LFR\\LFR-7\\matrix_data500边.csv\",header=None)\n",
    "data=pd.read_csv(r\"D:\\1.看论文0\\14.小型LFR\\LFR-8\\matrix_data500边.csv\",header=None)\n",
    "s=np.array(data)\n",
    "G = nx.DiGraph(s) #有向\n",
    "ave_degree=sum(sum(s))/len(G)\n",
    "print(ave_degree)"
   ]
  },
  {
   "cell_type": "code",
   "execution_count": null,
   "id": "7f4d2516",
   "metadata": {},
   "outputs": [],
   "source": []
  }
 ],
 "metadata": {
  "kernelspec": {
   "display_name": "Python 3 (ipykernel)",
   "language": "python",
   "name": "python3"
  },
  "language_info": {
   "codemirror_mode": {
    "name": "ipython",
    "version": 3
   },
   "file_extension": ".py",
   "mimetype": "text/x-python",
   "name": "python",
   "nbconvert_exporter": "python",
   "pygments_lexer": "ipython3",
   "version": "3.9.13"
  }
 },
 "nbformat": 4,
 "nbformat_minor": 5
}
